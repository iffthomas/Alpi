{
 "cells": [
  {
   "cell_type": "code",
   "execution_count": null,
   "id": "44918281",
   "metadata": {},
   "outputs": [],
   "source": [
    "import pandas as pd\n",
    "import numpy as np\n",
    "\n",
    "\n",
    "from data import DataLoader, SimpleEncoding\n",
    "from forecast_models import SimpleModel\n"
   ]
  }
 ],
 "metadata": {
  "kernelspec": {
   "display_name": "datathon2025",
   "language": "python",
   "name": "python3"
  },
  "language_info": {
   "codemirror_mode": {
    "name": "ipython",
    "version": 3
   },
   "file_extension": ".py",
   "mimetype": "text/x-python",
   "name": "python",
   "nbconvert_exporter": "python",
   "pygments_lexer": "ipython3",
   "version": "3.12.2"
  }
 },
 "nbformat": 4,
 "nbformat_minor": 5
}
